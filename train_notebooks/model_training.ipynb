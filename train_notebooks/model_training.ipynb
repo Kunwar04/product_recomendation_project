{
 "cells": [
  {
   "cell_type": "code",
   "execution_count": null,
   "id": "6d9e5b8e",
   "metadata": {
    "vscode": {
     "languageId": "plaintext"
    }
   },
   "outputs": [],
   "source": [
    "!pip install pandas sentence-transformers pinecone-client tqdm\n",
    "\n",
    "import pandas as pd\n",
    "from sentence_transformers import SentenceTransformer\n",
    "from pinecone import Pinecone, PodSpec, ServerlessSpec\n",
    "from tqdm.auto import tqdm\n",
    "import os\n",
    "import time"
   ]
  },
  {
   "cell_type": "code",
   "execution_count": null,
   "id": "9bd7084a",
   "metadata": {
    "vscode": {
     "languageId": "plaintext"
    }
   },
   "outputs": [],
   "source": [
    "PINECONE_API_KEY = \"pcn-1234567890abcdef1234567890abcdef\" \n",
    "INDEX_NAME = \"furniture-recommender\"\n",
    "DATASET_FILE = \"intern_data_ikarus.csv\"\n",
    "EMBEDDING_MODEL_NAME = 'all-MiniLM-L6-v2'"
   ]
  },
  {
   "cell_type": "code",
   "execution_count": null,
   "id": "5f61c45b",
   "metadata": {
    "vscode": {
     "languageId": "plaintext"
    }
   },
   "outputs": [],
   "source": [
    "METADATA_COLS = ['title', 'brand', 'price', 'categories', 'images', 'material', 'color', 'uniq_id']"
   ]
  },
  {
   "cell_type": "code",
   "execution_count": null,
   "id": "b1ddc8bb",
   "metadata": {
    "vscode": {
     "languageId": "plaintext"
    }
   },
   "outputs": [],
   "source": [
    "print(f\"Loading dataset: {DATASET_FILE}\")\n",
    "try:\n",
    "    df = pd.read_csv(DATASET_FILE)\n",
    "    print(\"Data loaded successfully.\")\n",
    "except FileNotFoundError:\n",
    "    print(f\"Error: The file {DATASET_FILE} was not found.\")\n",
    "    # You would typically stop here or load mock data\n",
    "    \n",
    "print(\"\\nDataFrame Head:\")\n",
    "print(df.head())\n",
    "\n",
    "print(\"\\nDataFrame Info:\")\n",
    "print(df.info())"
   ]
  },
  {
   "cell_type": "code",
   "execution_count": null,
   "id": "c2fad76f",
   "metadata": {
    "vscode": {
     "languageId": "plaintext"
    }
   },
   "outputs": [],
   "source": [
    "\n",
    "df['description'] = df['description'].fillna('')\n",
    "df['categories'] = df['categories'].fillna('')\n",
    "df['material'] = df['material'].fillna('')\n",
    "df['color'] = df['color'].fillna('')\n",
    "\n",
    "df['combined_text'] = (\n",
    "    df['title'] + ' ' + \n",
    "    df['description'] + ' ' + \n",
    "    df['categories'] + ' ' + \n",
    "    df['material'] + ' ' + \n",
    "    df['color']\n",
    ")\n",
    "\n",
    "df = df.dropna(subset=['uniq_id'])\n",
    "df['uniq_id'] = df['uniq_id'].astype(str) # Ensure unique ID is a string for the vector ID\n",
    "\n",
    "print(f\"\\nTotal products for embedding: {len(df)}\")\n",
    "print(f\"Example combined text: {df['combined_text'].iloc[0][:150]}...\")"
   ]
  },
  {
   "cell_type": "code",
   "execution_count": null,
   "id": "78490b89",
   "metadata": {
    "vscode": {
     "languageId": "plaintext"
    }
   },
   "outputs": [],
   "source": [
    "print(f\"\\nLoading Sentence Transformer model: {EMBEDDING_MODEL_NAME}\")\n",
    "model = SentenceTransformer(EMBEDDING_MODEL_NAME)\n",
    "EMBEDDING_DIMENSION = model.get_sentence_embedding_dimension()\n",
    "print(f\"Model loaded. Embedding dimension: {EMBEDDING_DIMENSION}\")\n",
    "\n",
    "print(\"Generating embeddings for all products...\")\n",
    "corpus_embeddings = model.encode(df['combined_text'].tolist(), show_progress_bar=True)\n",
    "print(\"Embeddings generation complete.\")"
   ]
  },
  {
   "cell_type": "code",
   "execution_count": null,
   "id": "2a15286e",
   "metadata": {
    "vscode": {
     "languageId": "plaintext"
    }
   },
   "outputs": [],
   "source": [
    "\n",
    "try:\n",
    "    pc = Pinecone(api_key=PINECONE_API_KEY)\n",
    "    \n",
    "    if INDEX_NAME not in pc.list_indexes().names:\n",
    "        print(f\"Creating Pinecone index: {INDEX_NAME}...\")\n",
    "        \n",
    "        # Use ServerlessSpec for the free tier/modern deployment\n",
    "        pc.create_index(\n",
    "            name=INDEX_NAME, \n",
    "            dimension=EMBEDDING_DIMENSION,\n",
    "            metric='cosine',\n",
    "            spec=ServerlessSpec(cloud='aws', region='us-west-2')\n",
    "        )\n",
    "        print(\"Index created. Waiting for index initialization...\")\n",
    "        while not pc.describe_index(INDEX_NAME).status['ready']:\n",
    "            time.sleep(1)\n",
    "            \n",
    "    index = pc.Index(INDEX_NAME)\n",
    "    print(f\"Connected to index '{INDEX_NAME}'. Current stats:\")\n",
    "    print(index.describe_index_stats())\n",
    "    \n",
    "except Exception as e:\n",
    "    print(f\"FATAL ERROR: Could not connect or create Pinecone index. Check API key and environment.\")\n",
    "    print(f\"Details: {e}\")"
   ]
  },
  {
   "cell_type": "code",
   "execution_count": null,
   "id": "929bd9b3",
   "metadata": {
    "vscode": {
     "languageId": "plaintext"
    }
   },
   "outputs": [],
   "source": [
    "BATCH_SIZE = 100\n",
    "vectors_to_upsert = []\n",
    "\n",
    "print(\"\\nStarting batch upsert to Pinecone...\")\n",
    "for i in tqdm(range(0, len(df), BATCH_SIZE)):\n",
    "    i_end = min(i + BATCH_SIZE, len(df))\n",
    "    batch = df.iloc[i:i_end]\n",
    "    \n",
    "    embedding_batch = corpus_embeddings[i:i_end]\n",
    "    \n",
    "    to_upsert = []\n",
    "    for j, (index_id, row) in enumerate(batch.iterrows()):\n",
    "        \n",
    "        metadata = {col: row[col] for col in METADATA_COLS if col in row}\n",
    "        \n",
    "        to_upsert.append((str(row['uniq_id']), embedding_batch[j].tolist(), metadata))\n",
    "        \n",
    "    vectors_to_upsert.extend(to_upsert)\n",
    "\n",
    "    try:\n",
    "        index.upsert(vectors=to_upsert)\n",
    "    except Exception as e:\n",
    "        print(f\"Error during upsert for batch {i//BATCH_SIZE}: {e}\")\n",
    "\n",
    "print(\"\\nUpsert process complete.\")\n",
    "final_count = index.describe_index_stats().total_vector_count\n",
    "print(f\"Final total vectors in index: {final_count}\")\n",
    "\n"
   ]
  },
  {
   "cell_type": "code",
   "execution_count": null,
   "id": "122565a1",
   "metadata": {
    "vscode": {
     "languageId": "plaintext"
    }
   },
   "outputs": [],
   "source": []
  }
 ],
 "metadata": {
  "language_info": {
   "name": "python"
  }
 },
 "nbformat": 4,
 "nbformat_minor": 5
}
