{
 "cells": [
  {
   "cell_type": "code",
   "execution_count": null,
   "id": "0cacf537",
   "metadata": {
    "vscode": {
     "languageId": "plaintext"
    }
   },
   "outputs": [],
   "source": [
    "import pandas as pd\n",
    "import numpy as np\n",
    "import matplotlib.pyplot as plt\n",
    "import seaborn as sns"
   ]
  },
  {
   "cell_type": "code",
   "execution_count": null,
   "id": "ba2169e0",
   "metadata": {
    "vscode": {
     "languageId": "plaintext"
    }
   },
   "outputs": [],
   "source": [
    "# Configuration\n",
    "DATASET_FILE = \"../intern_data_ikarus.csv\" "
   ]
  },
  {
   "cell_type": "code",
   "execution_count": null,
   "id": "4fff68d4",
   "metadata": {
    "vscode": {
     "languageId": "plaintext"
    }
   },
   "outputs": [],
   "source": [
    "# Load Data and Initial Inspection ---\n",
    "print(f\"Loading dataset: {DATASET_FILE}\")\n",
    "df = pd.read_csv(DATASET_FILE)\n",
    "\n",
    "print(\"Initial DataFrame Info:\")\n",
    "df.info()"
   ]
  },
  {
   "cell_type": "code",
   "execution_count": null,
   "id": "8e2eb7b0",
   "metadata": {
    "vscode": {
     "languageId": "plaintext"
    }
   },
   "outputs": [],
   "source": [
    "# Data Cleaning and Preprocessing for Analytics ---\n",
    "\n",
    "#  Clean 'price' column and convert to numeric (Crucial for price analysis)\n",
    "def clean_price(price):\n",
    "    if isinstance(price, str):\n",
    "        # Remove '$', ',', and any non-numeric characters, then convert to float\n",
    "        return pd.to_numeric(price.replace('$', '').replace(',', '').strip(), errors='coerce')\n",
    "    return pd.to_numeric(price, errors='coerce')\n",
    "\n",
    "df['price_numeric'] = df['price'].apply(clean_price)\n",
    "df = df.dropna(subset=['price_numeric']) # Drop rows where price couldn't be cleaned"
   ]
  },
  {
   "cell_type": "code",
   "execution_count": null,
   "id": "9957f21d",
   "metadata": {
    "vscode": {
     "languageId": "plaintext"
    }
   },
   "outputs": [],
   "source": [
    "$ Clean 'categories' and 'material' for grouping\n",
    "# Fill NaNs to avoid errors in grouping\n",
    "df['categories'] = df['categories'].fillna('Unknown')\n",
    "df['material'] = df['material'].fillna('Unknown')\n",
    "df['brand'] = df['brand'].fillna('Generic')"
   ]
  },
  {
   "cell_type": "code",
   "execution_count": null,
   "id": "d9eed424",
   "metadata": {
    "vscode": {
     "languageId": "plaintext"
    }
   },
   "outputs": [],
   "source": [
    "# Exploratory Data Analysis (EDA) & Visualization ---\n",
    "\n",
    "# Visualize Price Distribution\n",
    "plt.figure(figsize=(10, 6))\n",
    "sns.histplot(df['price_numeric'], bins=50, kde=True)\n",
    "plt.title('Distribution of Product Prices')\n",
    "plt.xlabel('Price ($)')\n",
    "plt.ylabel('Count')\n",
    "plt.show()"
   ]
  },
  {
   "cell_type": "code",
   "execution_count": null,
   "id": "f7bbb879",
   "metadata": {
    "vscode": {
     "languageId": "plaintext"
    }
   },
   "outputs": [],
   "source": [
    "## Top 10 Brands\n",
    "top_brands = df['brand'].value_counts().nlargest(10)\n",
    "plt.figure(figsize=(12, 6))\n",
    "top_brands.plot(kind='bar')\n",
    "plt.title('Top 10 Brands by Product Count')\n",
    "plt.ylabel('Product Count')\n",
    "plt.xticks(rotation=45, ha='right')\n",
    "plt.show()"
   ]
  },
  {
   "cell_type": "code",
   "execution_count": null,
   "id": "221a197b",
   "metadata": {
    "vscode": {
     "languageId": "plaintext"
    }
   },
   "outputs": [],
   "source": [
    "## Analyze Category Distribution (using a simplified first category)\n",
    "# Extract only the primary category for cleaner plotting\n",
    "df['primary_category'] = df['categories'].apply(lambda x: x.split(',')[0].strip().replace(\"['\", \"\").replace(\"']\", \"\"))\n",
    "top_categories = df['primary_category'].value_counts().nlargest(10)\n",
    "\n",
    "plt.figure(figsize=(12, 6))\n",
    "top_categories.plot(kind='pie', autopct='%1.1f%%')\n",
    "plt.title('Top Primary Category Distribution')\n",
    "plt.ylabel('')\n",
    "plt.show()"
   ]
  },
  {
   "cell_type": "code",
   "execution_count": null,
   "id": "a0c745f9",
   "metadata": {
    "vscode": {
     "languageId": "plaintext"
    }
   },
   "outputs": [],
   "source": [
    "## Calculating Metrics for FastAPI Dashboard ---\n",
    "\n",
    "#  Total Products\n",
    "total_products = len(df)\n",
    "\n",
    "# Top 3 Categories by Product Count\n",
    "top_categories_list = df['primary_category'].value_counts().nlargest(3).reset_index()\n",
    "top_categories_list.columns = ['name', 'count']\n",
    "top_categories_data = top_categories_list.to_dict('records')"
   ]
  },
  {
   "cell_type": "code",
   "execution_count": null,
   "id": "8f1bc736",
   "metadata": {
    "vscode": {
     "languageId": "plaintext"
    }
   },
   "outputs": [],
   "source": [
    "## Average Price by Material\n",
    "avg_price_by_material = df.groupby('material')['price_numeric'].mean().round(2).nlargest(4).to_dict()\n",
    "# Reasoning: Demonstrates grouping, aggregation, and sorting. This data is used for the BarChart in React.\n",
    "\n",
    "#  Top Brand Distribution\n",
    "brand_distribution = df['brand'].value_counts().nlargest(3).reset_index()\n",
    "brand_distribution.columns = ['brand', 'count']\n",
    "brand_distribution_data = brand_distribution.to_dict('records')"
   ]
  },
  {
   "cell_type": "code",
   "execution_count": null,
   "id": "ed8f7885",
   "metadata": {
    "vscode": {
     "languageId": "plaintext"
    }
   },
   "outputs": [],
   "source": [
    "## Final Analytics JSON Output (To be used in FastAPI mock/DB) ---\n",
    "analytics_output = {\n",
    "    \"total_products\": total_products,\n",
    "    \"top_categories\": top_categories_data,\n",
    "    \"avg_price_by_material\": avg_price_by_material,\n",
    "    \"brand_distribution\": brand_distribution_data\n",
    "}\n",
    "\n",
    "print(\"\\n--- FINAL ANALYTICS OUTPUT (For FastAPI Dashboard) ---\")\n",
    "import json\n",
    "print(json.dumps(analytics_output, indent=4))"
   ]
  }
 ],
 "metadata": {
  "language_info": {
   "name": "python"
  }
 },
 "nbformat": 4,
 "nbformat_minor": 5
}
